{
 "cells": [
  {
   "cell_type": "markdown",
   "id": "b0a706cc",
   "metadata": {},
   "source": [
    "\n",
    "# 00 · Environment Setup\n",
    "\n",
    "**Purpose.** One-time checks so teammates can run the project end-to-end without surprises.  \n",
    "This notebook:\n",
    "- Confirms Python & package versions\n",
    "- Creates the expected `data/` folders\n",
    "- Generates a `.env` template (if missing) and loads env vars\n",
    "- Optionally verifies Google Cloud credentials (if used)\n",
    "- Performs a simple read/write sanity test in the repo\n",
    "- Saves a machine-readable environment report to `../data/meta/env_report.json`\n",
    "\n",
    "One key step in this setup involves authenticating with Google Cloud using a **Service Account**. Each teammate will need access to a JSON key file for the project's service account that authenticates their access to shared cloud resources.\n",
    "\n",
    "Your service account key file should be placed in the credentials folder. This keeps sensitive files organized and makes it easier to manage your environment setup across machines or users.\n",
    "\n",
    "> **Important:** Never commit your service account JSON file to version control. The `.gitignore` includes all file found within the `credentials/` directory so `.env` files and the JSON key files will not be pushed to the public repo."
   ]
  },
  {
   "cell_type": "code",
   "execution_count": 8,
   "id": "e8ca180d",
   "metadata": {},
   "outputs": [
    {
     "name": "stdout",
     "output_type": "stream",
     "text": [
      "Python: 3.12.4\n",
      "Platform: Windows-11-10.0.26100-SP0\n",
      "Pandas: 2.2.2\n",
      "NumPy: 1.26.4\n",
      "dotenv available: True\n"
     ]
    }
   ],
   "source": [
    "\n",
    "# --- Core ---\n",
    "import os, sys, platform, json\n",
    "from pathlib import Path\n",
    "\n",
    "# --- Common data stack ---\n",
    "import pandas as pd\n",
    "import numpy as np\n",
    "\n",
    "# --- Utils ---\n",
    "from dotenv import load_dotenv, find_dotenv\n",
    "\n",
    "import google.cloud\n",
    "from google.cloud import storage, bigquery\n",
    "from google.auth import default as google_auth_default\n",
    "\n",
    "print(\"Python:\", sys.version.split()[0])\n",
    "print(\"Platform:\", platform.platform())\n",
    "print(\"Pandas:\", pd.__version__)\n",
    "print(\"NumPy:\", np.__version__)\n",
    "print(\"dotenv available:\", True)\n"
   ]
  },
  {
   "cell_type": "markdown",
   "id": "e04b4d53",
   "metadata": {},
   "source": [
    "## Paths & Folders"
   ]
  },
  {
   "cell_type": "code",
   "execution_count": 3,
   "id": "13486504",
   "metadata": {},
   "outputs": [
    {
     "name": "stdout",
     "output_type": "stream",
     "text": [
      "Ensured: C:\\Users\\iauge\\Documents\\Drexel MSDS\\DSCI 591\\DSCI591-FACTS\\data\n",
      "Ensured: C:\\Users\\iauge\\Documents\\Drexel MSDS\\DSCI 591\\DSCI591-FACTS\\data\\raw\n",
      "Ensured: C:\\Users\\iauge\\Documents\\Drexel MSDS\\DSCI 591\\DSCI591-FACTS\\data\\clean\n",
      "Ensured: C:\\Users\\iauge\\Documents\\Drexel MSDS\\DSCI 591\\DSCI591-FACTS\\data\\processed\n",
      "Ensured: C:\\Users\\iauge\\Documents\\Drexel MSDS\\DSCI 591\\DSCI591-FACTS\\data\\features\n",
      "Ensured: C:\\Users\\iauge\\Documents\\Drexel MSDS\\DSCI 591\\DSCI591-FACTS\\data\\meta\n",
      "\n",
      "Top-level project contents:\n",
      "DIR  .git\n",
      "FILE .gitignore\n",
      "DIR  credentials\n",
      "DIR  data\n",
      "DIR  data_acquisition\n",
      "DIR  data_pipeline\n",
      "FILE LICENSE\n",
      "DIR  notebooks\n",
      "DIR  preprocessing\n",
      "FILE README.md\n",
      "FILE requirements.txt\n",
      "DIR  shared_docs\n"
     ]
    }
   ],
   "source": [
    "\n",
    "# Resolve project-relative paths (this notebook lives in /notebooks ideally)\n",
    "PROJECT_ROOT = Path.cwd().resolve()\n",
    "DATA_DIR = (PROJECT_ROOT / \"..\" / \"data\").resolve()\n",
    "RAW_DIR = DATA_DIR / \"raw\"\n",
    "CLEAN_DIR = DATA_DIR / \"clean\"\n",
    "PROCESSED_DIR = DATA_DIR / \"processed\"\n",
    "FEATURES_DIR = DATA_DIR / \"features\"\n",
    "META_DIR = DATA_DIR / \"meta\"\n",
    "\n",
    "for p in [DATA_DIR, RAW_DIR, CLEAN_DIR, PROCESSED_DIR, FEATURES_DIR, META_DIR]:\n",
    "    p.mkdir(parents=True, exist_ok=True)\n",
    "    print(\"Ensured:\", p)\n",
    "\n",
    "# Optional: show a quick tree view (lightweight)\n",
    "print(\"\\nTop-level project contents:\")\n",
    "for item in sorted((PROJECT_ROOT / \"..\").resolve().iterdir()):\n",
    "    if item.is_dir():\n",
    "        print(\"DIR \", item.name)\n",
    "    else:\n",
    "        print(\"FILE\", item.name)\n"
   ]
  },
  {
   "cell_type": "markdown",
   "id": "6930fc46",
   "metadata": {},
   "source": [
    "## `.env` Template & Load"
   ]
  },
  {
   "cell_type": "code",
   "execution_count": 6,
   "id": "7df8d7c0",
   "metadata": {},
   "outputs": [
    {
     "name": "stdout",
     "output_type": "stream",
     "text": [
      "Created .env template at: C:\\Users\\iauge\\Documents\\Drexel MSDS\\DSCI 591\\DSCI591-FACTS\\credentials\\.env\n",
      "GCP_PROJECT_ID: \n",
      "BQ_DATASET: \n",
      "GCS_BUCKET: \n"
     ]
    }
   ],
   "source": [
    "# Path to credentials folder\n",
    "CREDENTIALS_DIR = (PROJECT_ROOT / \"..\" / \"credentials\").resolve()\n",
    "CREDENTIALS_DIR.mkdir(parents=True, exist_ok=True)\n",
    "\n",
    "# Path to .env inside credentials\n",
    "ENV_PATH = CREDENTIALS_DIR / \".env\"\n",
    "\n",
    "# Template for .env\n",
    "ENV_TEMPLATE = \"\"\"# --- Project Environment Variables ---\n",
    "GCP_PROJECT_ID=\n",
    "BQ_DATASET=\n",
    "GCS_BUCKET=\n",
    "\"\"\"\n",
    "\n",
    "if not ENV_PATH.exists():\n",
    "    with open(ENV_PATH, \"w\", encoding=\"utf-8\") as f:\n",
    "        f.write(ENV_TEMPLATE)\n",
    "    print(f\"Created .env template at: {ENV_PATH}\")\n",
    "else:\n",
    "    print(f\".env already present at: {ENV_PATH}\")\n",
    "\n",
    "# Load env\n",
    "load_dotenv(find_dotenv(str(ENV_PATH)), override=False)\n",
    "\n",
    "GCP_PROJECT_ID = os.getenv(\"GCP_PROJECT_ID\")\n",
    "BQ_DATASET = os.getenv(\"BQ_DATASET\")\n",
    "GCS_BUCKET = os.getenv(\"GCS_BUCKET\")\n",
    "\n",
    "print(\"GCP_PROJECT_ID:\", GCP_PROJECT_ID)\n",
    "print(\"BQ_DATASET:\", BQ_DATASET)\n",
    "print(\"GCS_BUCKET:\", GCS_BUCKET)"
   ]
  },
  {
   "cell_type": "markdown",
   "id": "5ffde98c",
   "metadata": {},
   "source": [
    "\n",
    "## GCP Authentication (replicates project standard)\n",
    "\n",
    "This block mirrors your current pattern:\n",
    "\n",
    "- Keep a `credentials/` folder at repo root\n",
    "- Store a `secrets.env` file with a single line pointing to your service account JSON:\n",
    "  ```\n",
    "  GOOGLE_APPLICATION_CREDENTIALS=path/to/your/service_account.json\n",
    "  ```\n",
    "- Load that path, validate the file exists, then initialize **ADC** clients for Storage and BigQuery.\n"
   ]
  },
  {
   "cell_type": "code",
   "execution_count": 9,
   "id": "7d6eb3d4",
   "metadata": {},
   "outputs": [
    {
     "name": "stdout",
     "output_type": "stream",
     "text": [
      "Credentials directory ensured at: C:\\Users\\iauge\\Documents\\Drexel MSDS\\DSCI 591\\DSCI591-FACTS\\credentials\n",
      "Loaded project env vars from: C:\\Users\\iauge\\Documents\\Drexel MSDS\\DSCI 591\\DSCI591-FACTS\\credentials\\.env\n",
      "Found existing secrets file at: C:\\Users\\iauge\\Documents\\Drexel MSDS\\DSCI 591\\DSCI591-FACTS\\credentials\\secrets.env\n",
      "GOOGLE_APPLICATION_CREDENTIALS loaded.\n",
      "Authenticated as: 13742792432-compute@developer.gserviceaccount.com\n",
      "GCP Project ID: dsci-591-capstone\n",
      "GCP region set to: us-east1\n"
     ]
    }
   ],
   "source": [
    "# --- GCP Authentication & `.env` Setup ---\n",
    "\n",
    "# Ensure credentials directory exists\n",
    "CREDENTIALS_DIR = Path(\"../credentials\").resolve()\n",
    "CREDENTIALS_DIR.mkdir(parents=True, exist_ok=True)\n",
    "print(f\"Credentials directory ensured at: {CREDENTIALS_DIR}\")\n",
    "\n",
    "env_path = CREDENTIALS_DIR / \".env\"\n",
    "if env_path.exists():\n",
    "    load_dotenv(find_dotenv(str(env_path)), override=False)\n",
    "    print(f\"Loaded project env vars from: {env_path}\")\n",
    "else:\n",
    "    print(f\"No .env found at {env_path} — create one to store GCP_PROJECT_ID, BQ_DATASET, etc.\")\n",
    "\n",
    "# Load from ../credentials/secrets.env (private key path)\n",
    "secrets_path = CREDENTIALS_DIR / \"secrets.env\"\n",
    "if not secrets_path.exists():\n",
    "    print(\"'secrets.env' not found. Creating a template...\")\n",
    "    secrets_path.write_text(\n",
    "        \"GOOGLE_APPLICATION_CREDENTIALS=path/to/your/service_account.json\\n\",\n",
    "        encoding=\"utf-8\"\n",
    "    )\n",
    "    print(f\"Created template at: {secrets_path}\")\n",
    "    print(\"Please update with the full path to your GCP JSON key.\")\n",
    "else:\n",
    "    print(f\"Found existing secrets file at: {secrets_path}\")\n",
    "load_dotenv(find_dotenv(str(secrets_path)), override=False)\n",
    "\n",
    "# Retrieve credentials path\n",
    "cred_path = os.getenv(\"GOOGLE_APPLICATION_CREDENTIALS\")\n",
    "storage_client = None\n",
    "bq_client = None\n",
    "project_id = None\n",
    "\n",
    "if not cred_path or not os.path.exists(cred_path):\n",
    "    print(\n",
    "        \"GOOGLE_APPLICATION_CREDENTIALS is not set or file does not exist.\\n\"\n",
    "        \"Update credentials/secrets.env with a valid path to your service account JSON.\"\n",
    "    )\n",
    "else:\n",
    "    print(\"GOOGLE_APPLICATION_CREDENTIALS loaded.\")\n",
    "    try:\n",
    "        storage_client = storage.Client()\n",
    "        bq_client = bigquery.Client()\n",
    "        creds, project_id = google_auth_default()\n",
    "        member_email = getattr(creds, \"service_account_email\", \"unknown\")\n",
    "        print(f\"Authenticated as: {member_email}\")\n",
    "        print(f\"GCP Project ID: {project_id}\")\n",
    "    except Exception as e:\n",
    "        print(\"Failed to initialize GCP clients:\", e)\n",
    "\n",
    "# Region setting\n",
    "REGION = \"us-east1\"\n",
    "print(f\"GCP region set to: {REGION}\")\n"
   ]
  },
  {
   "cell_type": "markdown",
   "id": "b9672efb",
   "metadata": {},
   "source": [
    "## Read/Write Sanity Test"
   ]
  },
  {
   "cell_type": "code",
   "execution_count": 10,
   "id": "c8a5822e",
   "metadata": {},
   "outputs": [
    {
     "name": "stdout",
     "output_type": "stream",
     "text": [
      "Read back: ok\n",
      "Read/write test ✓\n"
     ]
    }
   ],
   "source": [
    "\n",
    "TEST_FILE = META_DIR / \"rw_test.txt\"\n",
    "try:\n",
    "    with open(TEST_FILE, \"w\", encoding=\"utf-8\") as f:\n",
    "        f.write(\"ok\")\n",
    "    with open(TEST_FILE, \"r\", encoding=\"utf-8\") as f:\n",
    "        print(\"Read back:\", f.read())\n",
    "    print(\"Read/write test ✓\")\n",
    "except Exception as e:\n",
    "    print(\"Read/write test failed:\", e)\n"
   ]
  },
  {
   "cell_type": "markdown",
   "id": "e466f791",
   "metadata": {},
   "source": [
    "## Save Machine-Readable Environment Report"
   ]
  },
  {
   "cell_type": "code",
   "execution_count": 12,
   "id": "c8323163",
   "metadata": {},
   "outputs": [
    {
     "name": "stdout",
     "output_type": "stream",
     "text": [
      "Wrote: C:\\Users\\iauge\\Documents\\Drexel MSDS\\DSCI 591\\DSCI591-FACTS\\data\\meta\\env_report.json\n"
     ]
    },
    {
     "data": {
      "text/plain": [
       "{'python': '3.12.4',\n",
       " 'platform': 'Windows-11-10.0.26100-SP0',\n",
       " 'pandas': '2.2.2',\n",
       " 'numpy': '1.26.4',\n",
       " 'paths': {'project_root': 'C:\\\\Users\\\\iauge\\\\Documents\\\\Drexel MSDS\\\\DSCI 591\\\\DSCI591-FACTS\\\\notebooks',\n",
       "  'data_dir': 'C:\\\\Users\\\\iauge\\\\Documents\\\\Drexel MSDS\\\\DSCI 591\\\\DSCI591-FACTS\\\\data',\n",
       "  'raw_dir': 'C:\\\\Users\\\\iauge\\\\Documents\\\\Drexel MSDS\\\\DSCI 591\\\\DSCI591-FACTS\\\\data\\\\raw',\n",
       "  'clean_dir': 'C:\\\\Users\\\\iauge\\\\Documents\\\\Drexel MSDS\\\\DSCI 591\\\\DSCI591-FACTS\\\\data\\\\clean',\n",
       "  'processed_dir': 'C:\\\\Users\\\\iauge\\\\Documents\\\\Drexel MSDS\\\\DSCI 591\\\\DSCI591-FACTS\\\\data\\\\processed',\n",
       "  'features_dir': 'C:\\\\Users\\\\iauge\\\\Documents\\\\Drexel MSDS\\\\DSCI 591\\\\DSCI591-FACTS\\\\data\\\\features',\n",
       "  'meta_dir': 'C:\\\\Users\\\\iauge\\\\Documents\\\\Drexel MSDS\\\\DSCI 591\\\\DSCI591-FACTS\\\\data\\\\meta'},\n",
       " 'env': {'GCP_PROJECT_ID_set': False,\n",
       "  'BQ_DATASET_set': False,\n",
       "  'GCS_BUCKET_set': False}}"
      ]
     },
     "execution_count": 12,
     "metadata": {},
     "output_type": "execute_result"
    }
   ],
   "source": [
    "\n",
    "report = {\n",
    "    \"python\": sys.version.split()[0],\n",
    "    \"platform\": platform.platform(),\n",
    "    \"pandas\": pd.__version__,\n",
    "    \"numpy\": np.__version__,\n",
    "    \"paths\": {\n",
    "        \"project_root\": str(PROJECT_ROOT),\n",
    "        \"data_dir\": str(DATA_DIR),\n",
    "        \"raw_dir\": str(RAW_DIR),\n",
    "        \"clean_dir\": str(CLEAN_DIR),\n",
    "        \"processed_dir\": str(PROCESSED_DIR),\n",
    "        \"features_dir\": str(FEATURES_DIR),\n",
    "        \"meta_dir\": str(META_DIR),\n",
    "    },\n",
    "    \"env\": {\n",
    "        \"GCP_PROJECT_ID_set\": bool(GCP_PROJECT_ID),\n",
    "        \"BQ_DATASET_set\": bool(BQ_DATASET),\n",
    "        \"GCS_BUCKET_set\": bool(GCS_BUCKET),\n",
    "    }\n",
    "}\n",
    "\n",
    "out_path = META_DIR / \"env_report.json\"\n",
    "with open(out_path, \"w\", encoding=\"utf-8\") as f:\n",
    "    json.dump(report, f, indent=2)\n",
    "print(\"Wrote:\", out_path)\n",
    "report\n"
   ]
  }
 ],
 "metadata": {
  "language_info": {
   "name": "python"
  }
 },
 "nbformat": 4,
 "nbformat_minor": 5
}
