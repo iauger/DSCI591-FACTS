{
 "cells": [
  {
   "cell_type": "markdown",
   "id": "c4db8874",
   "metadata": {},
   "source": [
    "# Environment Setup & Authentication\n",
    "\n",
    "Welcome to the project onboarding notebook. This notebook helps you configure your local environment and validate access to required services such as Google Cloud (BigQuery, Cloud Storage).\n",
    "\n",
    "One key step in this setup involves authenticating with Google Cloud using a **Service Account**. Each teammate will need access to a JSON key file for the project's service account that authenticates their access to shared cloud resources.\n",
    "\n",
    "Your service account key file should be placed in the credentials folder. This keeps sensitive files organized and makes it easier to manage your environment setup across machines or users.\n",
    "\n",
    "> **Important:** Never commit your service account JSON file to version control. The `.gitignore` includes all file found within the `credentials/` directory so `.env` files and the JSON key files will not be pushed to the public repo.\n",
    "\n",
    "The next section will create and validate a `.env` file that stores the path to your service account credentials and confirms successful authentication.\n"
   ]
  },
  {
   "cell_type": "markdown",
   "id": "931f0233",
   "metadata": {},
   "source": [
    "## GCP Authentication & `.env` Setup\n",
    "\n",
    "This code block does the following:\n",
    "\n",
    "1. Checks whether `credentials/secrets.env` exists.\n",
    "2. If missing, it creates a **template** with a placeholder for your service account key.\n",
    "3. It then attempts to load the environment variable `GOOGLE_APPLICATION_CREDENTIALS` from the file.\n",
    "4. If a valid path is found and the file exists, it initializes your GCP clients (BigQuery, Cloud Storage) and prints your authenticated service account email.\n",
    "\n",
    "> If the `.env` file is missing, the script will create it and **halt execution**, allowing you to add your credentials before continuing. Once the `.env` file is created, add the full path to your JSON key file which should also be stored in the `credentials/` directory.\n",
    "\n",
    "Once authenticated, you can begin querying BigQuery or interacting with GCS buckets programmatically.\n"
   ]
  },
  {
   "cell_type": "code",
   "execution_count": 1,
   "id": "71c61f52",
   "metadata": {},
   "outputs": [],
   "source": [
    "import sys\n",
    "from dotenv import load_dotenv, find_dotenv\n",
    "import os\n",
    "from pathlib import Path\n",
    "sys.path.append(str(Path(\"..\").resolve()))\n",
    "\n",
    "from google.cloud import storage, bigquery\n",
    "from google.auth import default\n",
    "from data_pipeline.uploader import DataUploader\n",
    "from data_acquisition.loader import main as run_loader\n",
    "from data_acquisition.data_cleaner import main as run_cleaner\n"
   ]
  },
  {
   "cell_type": "code",
   "execution_count": 2,
   "id": "540c36cc",
   "metadata": {},
   "outputs": [
    {
     "name": "stdout",
     "output_type": "stream",
     "text": [
      "Found existing secrets file at: C:\\Users\\iauge\\Documents\\Drexel MSDS\\DSCI 591\\DSCI591-FACTS\\credentials\\secrets.env\n",
      "GOOGLE_APPLICATION_CREDENTIALS loaded from .env\n",
      "Authenticated as: 13742792432-compute@developer.gserviceaccount.com\n",
      "GCP Project ID: dsci-591-capstone\n",
      "GCP region set to: us-east1\n"
     ]
    }
   ],
   "source": [
    "# GCP Authentication & `.env` Setup\n",
    "# This script sets up Google Cloud authentication and checks for the necessary environment variables.\n",
    "\n",
    "# Define secrets file path\n",
    "secrets_path = Path(\"../credentials/secrets.env\")\n",
    "\n",
    "# Create file if it doesn't exist\n",
    "if not secrets_path.exists():\n",
    "    print(\"'secrets.env' not found. Creating a template...\")\n",
    "    secrets_path.parent.mkdir(parents=True, exist_ok=True)\n",
    "    secrets_path.write_text(\"GOOGLE_APPLICATION_CREDENTIALS=path/to/your/service_account.json\\n\")\n",
    "    print(f\"Created template at: {secrets_path.resolve()}\")\n",
    "    print(\"Please update this file with the directory path to your GCP JSON key.\")\n",
    "    print(\"Store JSON key in the 'credentials' directory to prevent upload to GitHub.\")\n",
    "    sys.exit(1)  \n",
    "else:\n",
    "    print(f\"Found existing secrets file at: {secrets_path.resolve()}\")\n",
    "    \n",
    "load_dotenv(find_dotenv(\"../credentials/secrets.env\"))\n",
    "\n",
    "cred_path = os.getenv(\"GOOGLE_APPLICATION_CREDENTIALS\")\n",
    "\n",
    "if not cred_path or not os.path.exists(cred_path):\n",
    "    print(\n",
    "        \"GOOGLE_APPLICATION_CREDENTIALS is not set or the file does not exist.\\n\"\n",
    "        \"Please ensure secrets.env contains a valid path to your service account JSON file.\"\n",
    "    )\n",
    "    storage_client = None\n",
    "    bq_client = None\n",
    "else:\n",
    "    print(\"GOOGLE_APPLICATION_CREDENTIALS loaded from .env\")\n",
    "\n",
    "    # Initialize GCP clients using ADC\n",
    "    storage_client = storage.Client()\n",
    "    bq_client = bigquery.Client()\n",
    "\n",
    "    # Confirm authentication\n",
    "    creds, project_id = default()\n",
    "    member_email = creds.service_account_email\n",
    "    print(f\"Authenticated as: {member_email}\")\n",
    "    print(f\"GCP Project ID: {project_id}\")\n",
    "\n",
    "# GCP configuration\n",
    "REGION = \"us-east1\"\n",
    "print(f\"GCP region set to: {REGION}\")\n"
   ]
  },
  {
   "cell_type": "code",
   "execution_count": 3,
   "id": "ae996dd8",
   "metadata": {},
   "outputs": [],
   "source": [
    "\n",
    "# Initialize GCP clients with the project ID if provided\n",
    "storage_client = storage.Client(project = project_id if project_id else None)\n",
    "bq_client = bigquery.Client(project = project_id if project_id else None)"
   ]
  },
  {
   "cell_type": "code",
   "execution_count": null,
   "id": "6c865806",
   "metadata": {},
   "outputs": [],
   "source": [
    "# Download raw data files from URLs and Hugging Face\n",
    "run_loader(force=False, prompt_user=False)"
   ]
  },
  {
   "cell_type": "code",
   "execution_count": 4,
   "id": "581fd725",
   "metadata": {},
   "outputs": [
    {
     "name": "stderr",
     "output_type": "stream",
     "text": [
      "Cleaning datasets: 0it [00:00, ?it/s]"
     ]
    },
    {
     "name": "stdout",
     "output_type": "stream",
     "text": [
      "Processing JSONL file: fever_dev_train.jsonl\n"
     ]
    },
    {
     "name": "stderr",
     "output_type": "stream",
     "text": [
      "Cleaning fever_dev_train.jsonl: 19998it [00:00, 64521.70it/s]\n",
      "Cleaning datasets: 1it [00:00,  3.03it/s]"
     ]
    },
    {
     "name": "stdout",
     "output_type": "stream",
     "text": [
      "Converting hotpot_dev_distractor.json to JSONL format\n"
     ]
    },
    {
     "name": "stderr",
     "output_type": "stream",
     "text": [
      "Cleaning datasets: 1it [00:01,  3.03it/s]"
     ]
    },
    {
     "name": "stdout",
     "output_type": "stream",
     "text": [
      "Converted ..\\data\\raw\\hotpot_dev_distractor.json to ..\\data\\raw\\hotpot_dev_distractor.jsonl\n"
     ]
    },
    {
     "name": "stderr",
     "output_type": "stream",
     "text": [
      "Cleaning hotpot_dev_distractor.jsonl: 7405it [00:01, 6268.91it/s]\n",
      "Cleaning datasets: 2it [00:02,  1.36s/it]"
     ]
    },
    {
     "name": "stdout",
     "output_type": "stream",
     "text": [
      "Processing JSONL file: hotpot_dev_distractor.jsonl\n"
     ]
    },
    {
     "name": "stderr",
     "output_type": "stream",
     "text": [
      "Cleaning hotpot_dev_distractor.jsonl: 7405it [00:01, 6177.94it/s]\n",
      "Cleaning datasets: 3it [00:03,  1.29s/it]"
     ]
    },
    {
     "name": "stdout",
     "output_type": "stream",
     "text": [
      "Converting hotpot_dev_fullwiki.json to JSONL format\n"
     ]
    },
    {
     "name": "stderr",
     "output_type": "stream",
     "text": [
      "Cleaning datasets: 3it [00:04,  1.29s/it]"
     ]
    },
    {
     "name": "stdout",
     "output_type": "stream",
     "text": [
      "Converted ..\\data\\raw\\hotpot_dev_fullwiki.json to ..\\data\\raw\\hotpot_dev_fullwiki.jsonl\n"
     ]
    },
    {
     "name": "stderr",
     "output_type": "stream",
     "text": [
      "Cleaning hotpot_dev_fullwiki.jsonl: 7405it [00:01, 6063.14it/s]\n",
      "Cleaning datasets: 4it [00:05,  1.60s/it]"
     ]
    },
    {
     "name": "stdout",
     "output_type": "stream",
     "text": [
      "Processing JSONL file: hotpot_dev_fullwiki.jsonl\n"
     ]
    },
    {
     "name": "stderr",
     "output_type": "stream",
     "text": [
      "Cleaning hotpot_dev_fullwiki.jsonl: 7405it [00:01, 5960.26it/s]\n",
      "Cleaning datasets: 5it [00:06,  1.48s/it]"
     ]
    },
    {
     "name": "stdout",
     "output_type": "stream",
     "text": [
      "Converting hotpot_train.json to JSONL format\n"
     ]
    },
    {
     "name": "stderr",
     "output_type": "stream",
     "text": [
      "Cleaning datasets: 5it [00:18,  1.48s/it]"
     ]
    },
    {
     "name": "stdout",
     "output_type": "stream",
     "text": [
      "Converted ..\\data\\raw\\hotpot_train.json to ..\\data\\raw\\hotpot_train.jsonl\n"
     ]
    },
    {
     "name": "stderr",
     "output_type": "stream",
     "text": [
      "Cleaning hotpot_train.jsonl: 90447it [00:13, 6494.08it/s]\n",
      "Cleaning datasets: 6it [00:33,  9.90s/it]"
     ]
    },
    {
     "name": "stdout",
     "output_type": "stream",
     "text": [
      "Processing JSONL file: hotpot_train.jsonl\n"
     ]
    },
    {
     "name": "stderr",
     "output_type": "stream",
     "text": [
      "Cleaning hotpot_train.jsonl: 90447it [00:14, 6437.08it/s]\n",
      "Cleaning datasets: 7it [00:47, 11.28s/it]"
     ]
    },
    {
     "name": "stdout",
     "output_type": "stream",
     "text": [
      "Converting nq_open_train.json to JSONL format\n",
      "JSON decode failed with: Extra data: line 2 column 1 (char 90). Assuming file is already JSONL.\n"
     ]
    },
    {
     "name": "stderr",
     "output_type": "stream",
     "text": [
      "Cleaning nq_open_train.jsonl: 87925it [00:00, 134592.47it/s]\n",
      "Cleaning datasets: 8it [00:48,  7.91s/it]"
     ]
    },
    {
     "name": "stdout",
     "output_type": "stream",
     "text": [
      "Processing JSONL file: nq_open_train.jsonl\n"
     ]
    },
    {
     "name": "stderr",
     "output_type": "stream",
     "text": [
      "Cleaning nq_open_train.jsonl: 87925it [00:00, 132848.19it/s]\n",
      "Cleaning datasets: 9it [00:48,  5.65s/it]"
     ]
    },
    {
     "name": "stdout",
     "output_type": "stream",
     "text": [
      "Processing CSV file: squad_v2_train.csv\n",
      "Cleaning SQuAD CSV: squad_v2_train.csv\n"
     ]
    },
    {
     "name": "stderr",
     "output_type": "stream",
     "text": [
      "Cleaning datasets: 10it [00:57,  6.64s/it]"
     ]
    },
    {
     "name": "stdout",
     "output_type": "stream",
     "text": [
      "Saved cleaned CSV to: ..\\data\\clean\\squad_v2_train.csv\n",
      "Saved 109 failed rows to: ..\\data\\raw\\squad_v2_train_failed.csv\n",
      "Processing CSV file: squad_v2_train_failed.csv\n",
      "Cleaning SQuAD CSV: squad_v2_train_failed.csv\n",
      "Saved cleaned CSV to: ..\\data\\clean\\squad_v2_train_failed.csv\n",
      "Saved 109 failed rows to: ..\\data\\raw\\squad_v2_train_failed_failed.csv\n",
      "Processing CSV file: squad_v2_validation.csv\n",
      "Cleaning SQuAD CSV: squad_v2_validation.csv\n"
     ]
    },
    {
     "name": "stderr",
     "output_type": "stream",
     "text": [
      "Cleaning datasets: 16it [00:58,  3.66s/it]"
     ]
    },
    {
     "name": "stdout",
     "output_type": "stream",
     "text": [
      "Saved cleaned CSV to: ..\\data\\clean\\squad_v2_validation.csv\n",
      "Saved 11 failed rows to: ..\\data\\raw\\squad_v2_validation_failed.csv\n",
      "Processing CSV file: squad_v2_validation_failed.csv\n",
      "Cleaning SQuAD CSV: squad_v2_validation_failed.csv\n",
      "Saved cleaned CSV to: ..\\data\\clean\\squad_v2_validation_failed.csv\n",
      "Saved 11 failed rows to: ..\\data\\raw\\squad_v2_validation_failed_failed.csv\n",
      "Processing CSV file: truthful_qa_train.csv\n",
      "No specific cleaning function for truthful_qa_train.csv, copying as is.\n",
      "Data cleaning completed successfully.\n"
     ]
    },
    {
     "name": "stderr",
     "output_type": "stream",
     "text": [
      "\n"
     ]
    }
   ],
   "source": [
    "# Convert JSON to JSONL\n",
    "# Clean JSONL data structure for BigQuery upload\n",
    "# Clean CSV data structure for BigQuery upload\n",
    "\n",
    "run_cleaner()\n"
   ]
  },
  {
   "cell_type": "code",
   "execution_count": 5,
   "id": "8e666a2e",
   "metadata": {},
   "outputs": [
    {
     "name": "stdout",
     "output_type": "stream",
     "text": [
      "Table dsci-591-capstone.data_clean.fever_dev_train already exists. Using existing table.\n",
      "Successfully uploaded ..\\data\\clean\\fever_dev_train.jsonl to BigQuery table dsci-591-capstone.data_clean.fever_dev_train.\n",
      "Table dsci-591-capstone.data_clean.hotpot_dev_distractor already exists. Using existing table.\n",
      "Successfully uploaded ..\\data\\clean\\hotpot_dev_distractor.jsonl to BigQuery table dsci-591-capstone.data_clean.hotpot_dev_distractor.\n",
      "Table dsci-591-capstone.data_clean.hotpot_dev_fullwiki already exists. Using existing table.\n",
      "Successfully uploaded ..\\data\\clean\\hotpot_dev_fullwiki.jsonl to BigQuery table dsci-591-capstone.data_clean.hotpot_dev_fullwiki.\n",
      "Table dsci-591-capstone.data_clean.hotpot_train already exists. Using existing table.\n",
      "Successfully uploaded ..\\data\\clean\\hotpot_train.jsonl to BigQuery table dsci-591-capstone.data_clean.hotpot_train.\n",
      "Table dsci-591-capstone.data_clean.nq_open_train already exists. Using existing table.\n",
      "Successfully uploaded ..\\data\\clean\\nq_open_train.jsonl to BigQuery table dsci-591-capstone.data_clean.nq_open_train.\n",
      "Creating new table dsci-591-capstone.data_clean.squad_v2_train.\n",
      "Failed to upload ..\\data\\clean\\squad_v2_train.csv to BigQuery: 400 Error while reading data, error message: CSV table encountered too many errors, giving up. Rows: 7225; errors: 100. Please look into the errors[] collection for more details.; reason: invalid, message: Error while reading data, error message: CSV table encountered too many errors, giving up. Rows: 7225; errors: 100. Please look into the errors[] collection for more details.; reason: invalid, message: Error while reading data, error message: CSV processing encountered too many errors, giving up. Rows: 7225; errors: 100; max bad: 0; error percent: 0; reason: invalid, message: Error while reading data, error message: Missing close quote character (\").; line_number: 5465 byte_offset_to_start_of_line: 4974103 column_index: 2 column_name: \"string_field_2\" column_type: STRING value: \"\"; reason: invalid, message: Error while reading data, error message: Missing close quote character (\").; line_number: 5467 byte_offset_to_start_of_line: 4975144 column_index: 2 column_name: \"string_field_2\" column_type: STRING value: \"\"; reason: invalid, message: Error while reading data, error message: Missing close quote character (\").; line_number: 5469 byte_offset_to_start_of_line: 4976160 column_index: 2 column_name: \"string_field_2\" column_type: STRING value: \"\"; reason: invalid, message: Error while reading data, error message: Missing close quote character (\").; line_number: 7010 byte_offset_to_start_of_line: 6120822 column_index: 2 column_name: \"string_field_2\" column_type: STRING value: \"\"; reason: invalid, message: Error while reading data, error message: Missing close quote character (\").; line_number: 7012 byte_offset_to_start_of_line: 6122526 column_index: 2 column_name: \"string_field_2\" column_type: STRING value: \"\"; reason: invalid, message: Error while reading data, error message: Missing close quote character (\").; line_number: 7014 byte_offset_to_start_of_line: 6124238 column_index: 2 column_name: \"string_field_2\" column_type: STRING value: \"\"; reason: invalid, message: Error while reading data, error message: Missing close quote character (\").; line_number: 7016 byte_offset_to_start_of_line: 6125937 column_index: 2 column_name: \"string_field_2\" column_type: STRING value: \"\"; reason: invalid, message: Error while reading data, error message: Missing close quote character (\").; line_number: 7018 byte_offset_to_start_of_line: 6127683 column_index: 2 column_name: \"string_field_2\" column_type: STRING value: \"\"; reason: invalid, message: Error while reading data, error message: Missing close quote character (\").; line_number: 7020 byte_offset_to_start_of_line: 6129401 column_index: 2 column_name: \"string_field_2\" column_type: STRING value: \"\"; reason: invalid, message: Error while reading data, error message: Missing close quote character (\").; line_number: 7022 byte_offset_to_start_of_line: 6131137 column_index: 2 column_name: \"string_field_2\" column_type: STRING value: \"\"; reason: invalid, message: Error while reading data, error message: Missing close quote character (\").; line_number: 7027 byte_offset_to_start_of_line: 6134183 column_index: 2 column_name: \"string_field_2\" column_type: STRING value: \"\"; reason: invalid, message: Error while reading data, error message: Missing close quote character (\").; line_number: 7029 byte_offset_to_start_of_line: 6134668 column_index: 2 column_name: \"string_field_2\" column_type: STRING value: \"\"; reason: invalid, message: Error while reading data, error message: Missing close quote character (\").; line_number: 7031 byte_offset_to_start_of_line: 6135178 column_index: 2 column_name: \"string_field_2\" column_type: STRING value: \"\"; reason: invalid, message: Error while reading data, error message: Missing close quote character (\").; line_number: 7033 byte_offset_to_start_of_line: 6135664 column_index: 2 column_name: \"string_field_2\" column_type: STRING value: \"\"; reason: invalid, message: Error while reading data, error message: Missing close quote character (\").; line_number: 7035 byte_offset_to_start_of_line: 6136163 column_index: 2 column_name: \"string_field_2\" column_type: STRING value: \"\"; reason: invalid, message: Error while reading data, error message: Missing close quote character (\").; line_number: 7037 byte_offset_to_start_of_line: 6136658 column_index: 2 column_name: \"string_field_2\" column_type: STRING value: \"\"; reason: invalid, message: Error while reading data, error message: Missing close quote character (\").; line_number: 7039 byte_offset_to_start_of_line: 6137151 column_index: 2 column_name: \"string_field_2\" column_type: STRING value: \"\"; reason: invalid, message: Error while reading data, error message: Missing close quote character (\").; line_number: 7041 byte_offset_to_start_of_line: 6137677 column_index: 2 column_name: \"string_field_2\" column_type: STRING value: \"\"; reason: invalid, message: Error while reading data, error message: Missing close quote character (\").; line_number: 7043 byte_offset_to_start_of_line: 6138175 column_index: 2 column_name: \"string_field_2\" column_type: STRING value: \"\"; reason: invalid, message: Error while reading data, error message: Missing close quote character (\").; line_number: 7045 byte_offset_to_start_of_line: 6138664 column_index: 2 column_name: \"string_field_2\" column_type: STRING value: \"\"; reason: invalid, message: Error while reading data, error message: Missing close quote character (\").; line_number: 7047 byte_offset_to_start_of_line: 6139121 column_index: 2 column_name: \"string_field_2\" column_type: STRING value: \"\"; reason: invalid, message: Error while reading data, error message: Missing close quote character (\").; line_number: 7049 byte_offset_to_start_of_line: 6139593 column_index: 2 column_name: \"string_field_2\" column_type: STRING value: \"\"; reason: invalid, message: Error while reading data, error message: Missing close quote character (\").; line_number: 7051 byte_offset_to_start_of_line: 6140069 column_index: 2 column_name: \"string_field_2\" column_type: STRING value: \"\"; reason: invalid, message: Error while reading data, error message: Missing close quote character (\").; line_number: 7053 byte_offset_to_start_of_line: 6140570 column_index: 2 column_name: \"string_field_2\" column_type: STRING value: \"\"; reason: invalid, message: Error while reading data, error message: Missing close quote character (\").; line_number: 7055 byte_offset_to_start_of_line: 6141045 column_index: 2 column_name: \"string_field_2\" column_type: STRING value: \"\"; reason: invalid, message: Error while reading data, error message: Missing close quote character (\").; line_number: 7057 byte_offset_to_start_of_line: 6141564 column_index: 2 column_name: \"string_field_2\" column_type: STRING value: \"\"; reason: invalid, message: Error while reading data, error message: Missing close quote character (\").; line_number: 7059 byte_offset_to_start_of_line: 6142041 column_index: 2 column_name: \"string_field_2\" column_type: STRING value: \"\"; reason: invalid, message: Error while reading data, error message: Missing close quote character (\").; line_number: 7061 byte_offset_to_start_of_line: 6142533 column_index: 2 column_name: \"string_field_2\" column_type: STRING value: \"\"; reason: invalid, message: Error while reading data, error message: Missing close quote character (\").; line_number: 7063 byte_offset_to_start_of_line: 6143038 column_index: 2 column_name: \"string_field_2\" column_type: STRING value: \"\"; reason: invalid, message: Error while reading data, error message: Missing close quote character (\").; line_number: 7065 byte_offset_to_start_of_line: 6143617 column_index: 2 column_name: \"string_field_2\" column_type: STRING value: \"\"; reason: invalid, message: Error while reading data, error message: Missing close quote character (\").; line_number: 7067 byte_offset_to_start_of_line: 6144217 column_index: 2 column_name: \"string_field_2\" column_type: STRING value: \"\"; reason: invalid, message: Error while reading data, error message: Missing close quote character (\").; line_number: 7069 byte_offset_to_start_of_line: 6144807 column_index: 2 column_name: \"string_field_2\" column_type: STRING value: \"\"; reason: invalid, message: Error while reading data, error message: Missing close quote character (\").; line_number: 7071 byte_offset_to_start_of_line: 6145425 column_index: 2 column_name: \"string_field_2\" column_type: STRING value: \"\"; reason: invalid, message: Error while reading data, error message: Missing close quote character (\").; line_number: 7073 byte_offset_to_start_of_line: 6146016 column_index: 2 column_name: \"string_field_2\" column_type: STRING value: \"\"; reason: invalid, message: Error while reading data, error message: Missing close quote character (\").; line_number: 7075 byte_offset_to_start_of_line: 6146612 column_index: 2 column_name: \"string_field_2\" column_type: STRING value: \"\"; reason: invalid, message: Error while reading data, error message: Missing close quote character (\").; line_number: 7077 byte_offset_to_start_of_line: 6147204 column_index: 2 column_name: \"string_field_2\" column_type: STRING value: \"\"; reason: invalid, message: Error while reading data, error message: Missing close quote character (\").; line_number: 7079 byte_offset_to_start_of_line: 6147816 column_index: 2 column_name: \"string_field_2\" column_type: STRING value: \"\"; reason: invalid, message: Error while reading data, error message: Missing close quote character (\").; line_number: 7081 byte_offset_to_start_of_line: 6149134 column_index: 2 column_name: \"string_field_2\" column_type: STRING value: \"\"; reason: invalid, message: Error while reading data, error message: Missing close quote character (\").; line_number: 7083 byte_offset_to_start_of_line: 6150451 column_index: 2 column_name: \"string_field_2\" column_type: STRING value: \"\"; reason: invalid, message: Error while reading data, error message: Missing close quote character (\").; line_number: 7085 byte_offset_to_start_of_line: 6151791 column_index: 2 column_name: \"string_field_2\" column_type: STRING value: \"\"; reason: invalid, message: Error while reading data, error message: Missing close quote character (\").; line_number: 7087 byte_offset_to_start_of_line: 6153102 column_index: 2 column_name: \"string_field_2\" column_type: STRING value: \"\"; reason: invalid, message: Error while reading data, error message: Missing close quote character (\").; line_number: 7089 byte_offset_to_start_of_line: 6154451 column_index: 2 column_name: \"string_field_2\" column_type: STRING value: \"\"; reason: invalid, message: Error while reading data, error message: Missing close quote character (\").; line_number: 7091 byte_offset_to_start_of_line: 6155763 column_index: 2 column_name: \"string_field_2\" column_type: STRING value: \"\"; reason: invalid, message: Error while reading data, error message: Missing close quote character (\").; line_number: 7093 byte_offset_to_start_of_line: 6157078 column_index: 2 column_name: \"string_field_2\" column_type: STRING value: \"\"; reason: invalid, message: Error while reading data, error message: Missing close quote character (\").; line_number: 7104 byte_offset_to_start_of_line: 6174093 column_index: 2 column_name: \"string_field_2\" column_type: STRING value: \"\"; reason: invalid, message: Error while reading data, error message: Missing close quote character (\").; line_number: 7106 byte_offset_to_start_of_line: 6176382 column_index: 2 column_name: \"string_field_2\" column_type: STRING value: \"\"; reason: invalid, message: Error while reading data, error message: Missing close quote character (\").; line_number: 7108 byte_offset_to_start_of_line: 6178692 column_index: 2 column_name: \"string_field_2\" column_type: STRING value: \"\"; reason: invalid, message: Error while reading data, error message: Missing close quote character (\").; line_number: 7110 byte_offset_to_start_of_line: 6181023 column_index: 2 column_name: \"string_field_2\" column_type: STRING value: \"\"; reason: invalid, message: Error while reading data, error message: Missing close quote character (\").; line_number: 7112 byte_offset_to_start_of_line: 6183361 column_index: 2 column_name: \"string_field_2\" column_type: STRING value: \"\"; reason: invalid, message: Error while reading data, error message: Missing close quote character (\").; line_number: 7114 byte_offset_to_start_of_line: 6185656 column_index: 2 column_name: \"string_field_2\" column_type: STRING value: \"\"; reason: invalid, message: Error while reading data, error message: Missing close quote character (\").; line_number: 7116 byte_offset_to_start_of_line: 6187952 column_index: 2 column_name: \"string_field_2\" column_type: STRING value: \"\"; reason: invalid, message: Error while reading data, error message: Missing close quote character (\").; line_number: 7118 byte_offset_to_start_of_line: 6190270 column_index: 2 column_name: \"string_field_2\" column_type: STRING value: \"\"; reason: invalid, message: Error while reading data, error message: Missing close quote character (\").; line_number: 7120 byte_offset_to_start_of_line: 6192589 column_index: 2 column_name: \"string_field_2\" column_type: STRING value: \"\"; reason: invalid, message: Error while reading data, error message: Missing close quote character (\").; line_number: 7220 byte_offset_to_start_of_line: 6302898 column_index: 2 column_name: \"string_field_2\" column_type: STRING value: \"\"; reason: invalid, message: Error while reading data, error message: Missing close quote character (\").; line_number: 7222 byte_offset_to_start_of_line: 6303293 column_index: 2 column_name: \"string_field_2\" column_type: STRING value: \"\"; reason: invalid, message: Error while reading data, error message: Missing close quote character (\").; line_number: 7224 byte_offset_to_start_of_line: 6303663 column_index: 2 column_name: \"string_field_2\" column_type: STRING value: \"\"; reason: invalid, message: Error while reading data, error message: Missing close quote character (\").; line_number: 7226 byte_offset_to_start_of_line: 6304060 column_index: 2 column_name: \"string_field_2\" column_type: STRING value: \"\"; reason: invalid, message: Error while reading data, error message: Missing close quote character (\").; line_number: 7228 byte_offset_to_start_of_line: 6304466 column_index: 2 column_name: \"string_field_2\" column_type: STRING value: \"\"; reason: invalid, message: Error while reading data, error message: Missing close quote character (\").; line_number: 7230 byte_offset_to_start_of_line: 6304856 column_index: 2 column_name: \"string_field_2\" column_type: STRING value: \"\"; reason: invalid, message: Error while reading data, error message: Missing close quote character (\").; line_number: 7232 byte_offset_to_start_of_line: 6305269 column_index: 2 column_name: \"string_field_2\" column_type: STRING value: \"\"; reason: invalid, message: Error while reading data, error message: Missing close quote character (\").; line_number: 7234 byte_offset_to_start_of_line: 6306268 column_index: 2 column_name: \"string_field_2\" column_type: STRING value: \"\"; reason: invalid, message: Error while reading data, error message: Missing close quote character (\").; line_number: 7236 byte_offset_to_start_of_line: 6307307 column_index: 2 column_name: \"string_field_2\" column_type: STRING value: \"\"; reason: invalid, message: Error while reading data, error message: Missing close quote character (\").; line_number: 7238 byte_offset_to_start_of_line: 6308376 column_index: 2 column_name: \"string_field_2\" column_type: STRING value: \"\"; reason: invalid, message: Error while reading data, error message: Missing close quote character (\").; line_number: 7240 byte_offset_to_start_of_line: 6309389 column_index: 2 column_name: \"string_field_2\" column_type: STRING value: \"\"; reason: invalid, message: Error while reading data, error message: Missing close quote character (\").; line_number: 7242 byte_offset_to_start_of_line: 6310442 column_index: 2 column_name: \"string_field_2\" column_type: STRING value: \"\"; reason: invalid, message: Error while reading data, error message: Missing close quote character (\").; line_number: 7244 byte_offset_to_start_of_line: 6311835 column_index: 2 column_name: \"string_field_2\" column_type: STRING value: \"\"; reason: invalid, message: Error while reading data, error message: Missing close quote character (\").; line_number: 7246 byte_offset_to_start_of_line: 6313236 column_index: 2 column_name: \"string_field_2\" column_type: STRING value: \"\"; reason: invalid, message: Error while reading data, error message: Missing close quote character (\").; line_number: 7248 byte_offset_to_start_of_line: 6314684 column_index: 2 column_name: \"string_field_2\" column_type: STRING value: \"\"; reason: invalid, message: Error while reading data, error message: Missing close quote character (\").; line_number: 7250 byte_offset_to_start_of_line: 6316118 column_index: 2 column_name: \"string_field_2\" column_type: STRING value: \"\"; reason: invalid, message: Error while reading data, error message: Missing close quote character (\").; line_number: 7252 byte_offset_to_start_of_line: 6317519 column_index: 2 column_name: \"string_field_2\" column_type: STRING value: \"\"; reason: invalid, message: Error while reading data, error message: Missing close quote character (\").; line_number: 7254 byte_offset_to_start_of_line: 6318914 column_index: 2 column_name: \"string_field_2\" column_type: STRING value: \"\"; reason: invalid, message: Error while reading data, error message: Missing close quote character (\").; line_number: 7256 byte_offset_to_start_of_line: 6320316 column_index: 2 column_name: \"string_field_2\" column_type: STRING value: \"\"; reason: invalid, message: Error while reading data, error message: Missing close quote character (\").; line_number: 7258 byte_offset_to_start_of_line: 6321715 column_index: 2 column_name: \"string_field_2\" column_type: STRING value: \"\"; reason: invalid, message: Error while reading data, error message: Missing close quote character (\").; line_number: 7284 byte_offset_to_start_of_line: 6342392 column_index: 2 column_name: \"string_field_2\" column_type: STRING value: \"\"; reason: invalid, message: Error while reading data, error message: Missing close quote character (\").; line_number: 7286 byte_offset_to_start_of_line: 6343606 column_index: 2 column_name: \"string_field_2\" column_type: STRING value: \"\"; reason: invalid, message: Error while reading data, error message: Missing close quote character (\").; line_number: 7288 byte_offset_to_start_of_line: 6344881 column_index: 2 column_name: \"string_field_2\" column_type: STRING value: \"\"; reason: invalid, message: Error while reading data, error message: Missing close quote character (\").; line_number: 7290 byte_offset_to_start_of_line: 6346131 column_index: 2 column_name: \"string_field_2\" column_type: STRING value: \"\"; reason: invalid, message: Error while reading data, error message: Missing close quote character (\").; line_number: 7292 byte_offset_to_start_of_line: 6347341 column_index: 2 column_name: \"string_field_2\" column_type: STRING value: \"\"; reason: invalid, message: Error while reading data, error message: Missing close quote character (\").; line_number: 7294 byte_offset_to_start_of_line: 6348563 column_index: 2 column_name: \"string_field_2\" column_type: STRING value: \"\"; reason: invalid, message: Error while reading data, error message: Missing close quote character (\").; line_number: 7296 byte_offset_to_start_of_line: 6349807 column_index: 2 column_name: \"string_field_2\" column_type: STRING value: \"\"; reason: invalid, message: Error while reading data, error message: Missing close quote character (\").; line_number: 7298 byte_offset_to_start_of_line: 6351055 column_index: 2 column_name: \"string_field_2\" column_type: STRING value: \"\"; reason: invalid, message: Error while reading data, error message: Missing close quote character (\").; line_number: 7300 byte_offset_to_start_of_line: 6351793 column_index: 2 column_name: \"string_field_2\" column_type: STRING value: \"\"; reason: invalid, message: Error while reading data, error message: Missing close quote character (\").; line_number: 7302 byte_offset_to_start_of_line: 6352538 column_index: 2 column_name: \"string_field_2\" column_type: STRING value: \"\"; reason: invalid, message: Error while reading data, error message: Missing close quote character (\").; line_number: 7304 byte_offset_to_start_of_line: 6353292 column_index: 2 column_name: \"string_field_2\" column_type: STRING value: \"\"; reason: invalid, message: Error while reading data, error message: Missing close quote character (\").; line_number: 7306 byte_offset_to_start_of_line: 6354068 column_index: 2 column_name: \"string_field_2\" column_type: STRING value: \"\"; reason: invalid, message: Error while reading data, error message: Missing close quote character (\").; line_number: 7308 byte_offset_to_start_of_line: 6354843 column_index: 2 column_name: \"string_field_2\" column_type: STRING value: \"\"; reason: invalid, message: Error while reading data, error message: Missing close quote character (\").; line_number: 7310 byte_offset_to_start_of_line: 6355597 column_index: 2 column_name: \"string_field_2\" column_type: STRING value: \"\"; reason: invalid, message: Error while reading data, error message: Missing close quote character (\").; line_number: 7312 byte_offset_to_start_of_line: 6356351 column_index: 2 column_name: \"string_field_2\" column_type: STRING value: \"\"; reason: invalid, message: Error while reading data, error message: Missing close quote character (\").; line_number: 7319 byte_offset_to_start_of_line: 6361885 column_index: 2 column_name: \"string_field_2\" column_type: STRING value: \"\"; reason: invalid, message: Error while reading data, error message: Missing close quote character (\").; line_number: 7321 byte_offset_to_start_of_line: 6362723 column_index: 2 column_name: \"string_field_2\" column_type: STRING value: \"\"; reason: invalid, message: Error while reading data, error message: Missing close quote character (\").; line_number: 7323 byte_offset_to_start_of_line: 6363583 column_index: 2 column_name: \"string_field_2\" column_type: STRING value: \"\"; reason: invalid, message: Error while reading data, error message: Missing close quote character (\").; line_number: 7325 byte_offset_to_start_of_line: 6364465 column_index: 2 column_name: \"string_field_2\" column_type: STRING value: \"\"; reason: invalid, message: Error while reading data, error message: Data between close quote character (\") and field separator.; line_number: 7080 byte_offset_to_start_of_line: 6147880 column_index: 13 column_name: \"string_field_13\" column_type: STRING value: \"\"; reason: invalid, message: Error while reading data, error message: Data between close quote character (\") and field separator.; line_number: 7082 byte_offset_to_start_of_line: 6149198 column_index: 13 column_name: \"string_field_13\" column_type: STRING value: \"\"; reason: invalid, message: Error while reading data, error message: Data between close quote character (\") and field separator.; line_number: 7084 byte_offset_to_start_of_line: 6150515 column_index: 13 column_name: \"string_field_13\" column_type: STRING value: \"\"; reason: invalid, message: Error while reading data, error message: Data between close quote character (\") and field separator.; line_number: 7086 byte_offset_to_start_of_line: 6151855 column_index: 13 column_name: \"string_field_13\" column_type: STRING value: \"\"; reason: invalid, message: Error while reading data, error message: Data between close quote character (\") and field separator.; line_number: 7088 byte_offset_to_start_of_line: 6153166 column_index: 13 column_name: \"string_field_13\" column_type: STRING value: \"\"; reason: invalid, message: Error while reading data, error message: Data between close quote character (\") and field separator.; line_number: 7090 byte_offset_to_start_of_line: 6154515 column_index: 13 column_name: \"string_field_13\" column_type: STRING value: \"\"; reason: invalid, message: Error while reading data, error message: Data between close quote character (\") and field separator.; line_number: 7092 byte_offset_to_start_of_line: 6155827 column_index: 13 column_name: \"string_field_13\" column_type: STRING value: \"\"; reason: invalid, message: Error while reading data, error message: Data between close quote character (\") and field separator.; line_number: 7094 byte_offset_to_start_of_line: 6157142 column_index: 13 column_name: \"string_field_13\" column_type: STRING value: \"\"\n",
      "Creating new table dsci-591-capstone.data_clean.squad_v2_validation.\n",
      "Failed to upload ..\\data\\clean\\squad_v2_validation.csv to BigQuery: 400 Error while reading data, error message: CSV table encountered too many errors, giving up. Rows: 2639; errors: 100. Please look into the errors[] collection for more details.; reason: invalid, message: Error while reading data, error message: CSV table encountered too many errors, giving up. Rows: 2639; errors: 100. Please look into the errors[] collection for more details.; reason: invalid, message: Error while reading data, error message: CSV processing encountered too many errors, giving up. Rows: 2639; errors: 100; max bad: 0; error percent: 0; reason: invalid, message: Error while reading data, error message: Missing close quote character (\").; line_number: 2274 byte_offset_to_start_of_line: 1968185 column_index: 2 column_name: \"string_field_2\" column_type: STRING value: \"Oxygen is a chemi...\"; reason: invalid, message: Error while reading data, error message: Missing close quote character (\").; line_number: 2276 byte_offset_to_start_of_line: 1969189 column_index: 2 column_name: \"string_field_2\" column_type: STRING value: \"Oxygen is a chemi...\"; reason: invalid, message: Error while reading data, error message: Missing close quote character (\").; line_number: 2278 byte_offset_to_start_of_line: 1970213 column_index: 2 column_name: \"string_field_2\" column_type: STRING value: \"Oxygen is a chemi...\"; reason: invalid, message: Error while reading data, error message: Missing close quote character (\").; line_number: 2280 byte_offset_to_start_of_line: 1971300 column_index: 2 column_name: \"string_field_2\" column_type: STRING value: \"Oxygen is a chemi...\"; reason: invalid, message: Error while reading data, error message: Missing close quote character (\").; line_number: 2282 byte_offset_to_start_of_line: 1972314 column_index: 2 column_name: \"string_field_2\" column_type: STRING value: \"Oxygen is a chemi...\"; reason: invalid, message: Error while reading data, error message: Missing close quote character (\").; line_number: 2284 byte_offset_to_start_of_line: 1973358 column_index: 2 column_name: \"string_field_2\" column_type: STRING value: \"Oxygen is a chemi...\"; reason: invalid, message: Error while reading data, error message: Missing close quote character (\").; line_number: 2286 byte_offset_to_start_of_line: 1974359 column_index: 2 column_name: \"string_field_2\" column_type: STRING value: \"Oxygen is a chemi...\"; reason: invalid, message: Error while reading data, error message: Missing close quote character (\").; line_number: 2288 byte_offset_to_start_of_line: 1975417 column_index: 2 column_name: \"string_field_2\" column_type: STRING value: \"Oxygen is a chemi...\"; reason: invalid, message: Error while reading data, error message: Missing close quote character (\").; line_number: 2290 byte_offset_to_start_of_line: 1976462 column_index: 2 column_name: \"string_field_2\" column_type: STRING value: \"Oxygen is a chemi...\"; reason: invalid, message: Error while reading data, error message: Missing close quote character (\").; line_number: 2292 byte_offset_to_start_of_line: 1977508 column_index: 2 column_name: \"string_field_2\" column_type: STRING value: \"Oxygen is a chemi...\"; reason: invalid, message: Error while reading data, error message: Missing close quote character (\").; line_number: 2294 byte_offset_to_start_of_line: 1978563 column_index: 2 column_name: \"string_field_2\" column_type: STRING value: \"Oxygen is a chemi...\"; reason: invalid, message: Error while reading data, error message: Missing close quote character (\").; line_number: 2296 byte_offset_to_start_of_line: 1979504 column_index: 2 column_name: \"string_field_2\" column_type: STRING value: \"Oxygen is a chemi...\"; reason: invalid, message: Error while reading data, error message: Missing close quote character (\").; line_number: 2298 byte_offset_to_start_of_line: 1980444 column_index: 2 column_name: \"string_field_2\" column_type: STRING value: \"Oxygen is a chemi...\"; reason: invalid, message: Error while reading data, error message: Missing close quote character (\").; line_number: 2300 byte_offset_to_start_of_line: 1981428 column_index: 2 column_name: \"string_field_2\" column_type: STRING value: \"Oxygen is a chemi...\"; reason: invalid, message: Error while reading data, error message: Missing close quote character (\").; line_number: 2302 byte_offset_to_start_of_line: 1982379 column_index: 2 column_name: \"string_field_2\" column_type: STRING value: \"Many major classe...\"; reason: invalid, message: Error while reading data, error message: Missing close quote character (\").; line_number: 2304 byte_offset_to_start_of_line: 1983614 column_index: 2 column_name: \"string_field_2\" column_type: STRING value: \"Many major classe...\"; reason: invalid, message: Error while reading data, error message: Missing close quote character (\").; line_number: 2306 byte_offset_to_start_of_line: 1984845 column_index: 2 column_name: \"string_field_2\" column_type: STRING value: \"Many major classe...\"; reason: invalid, message: Error while reading data, error message: Missing close quote character (\").; line_number: 2308 byte_offset_to_start_of_line: 1986032 column_index: 2 column_name: \"string_field_2\" column_type: STRING value: \"Many major classe...\"; reason: invalid, message: Error while reading data, error message: Missing close quote character (\").; line_number: 2310 byte_offset_to_start_of_line: 1987229 column_index: 2 column_name: \"string_field_2\" column_type: STRING value: \"Many major classe...\"; reason: invalid, message: Error while reading data, error message: Missing close quote character (\").; line_number: 2312 byte_offset_to_start_of_line: 1988452 column_index: 2 column_name: \"string_field_2\" column_type: STRING value: \"Many major classe...\"; reason: invalid, message: Error while reading data, error message: Missing close quote character (\").; line_number: 2314 byte_offset_to_start_of_line: 1989702 column_index: 2 column_name: \"string_field_2\" column_type: STRING value: \"Many major classe...\"; reason: invalid, message: Error while reading data, error message: Missing close quote character (\").; line_number: 2316 byte_offset_to_start_of_line: 1990887 column_index: 2 column_name: \"string_field_2\" column_type: STRING value: \"Many major classe...\"; reason: invalid, message: Error while reading data, error message: Missing close quote character (\").; line_number: 2318 byte_offset_to_start_of_line: 1992069 column_index: 2 column_name: \"string_field_2\" column_type: STRING value: \"Many major classe...\"; reason: invalid, message: Error while reading data, error message: Missing close quote character (\").; line_number: 2320 byte_offset_to_start_of_line: 1993176 column_index: 2 column_name: \"string_field_2\" column_type: STRING value: \"Many major classe...\"; reason: invalid, message: Error while reading data, error message: Missing close quote character (\").; line_number: 2322 byte_offset_to_start_of_line: 1994313 column_index: 2 column_name: \"string_field_2\" column_type: STRING value: \"Many major classe...\"; reason: invalid, message: Error while reading data, error message: Missing close quote character (\").; line_number: 2324 byte_offset_to_start_of_line: 1995403 column_index: 2 column_name: \"string_field_2\" column_type: STRING value: \"Many major classe...\"; reason: invalid, message: Error while reading data, error message: Missing close quote character (\").; line_number: 2380 byte_offset_to_start_of_line: 2043472 column_index: 2 column_name: \"string_field_2\" column_type: STRING value: \"Concentrated O\"; reason: invalid, message: Error while reading data, error message: Missing close quote character (\").; line_number: 2384 byte_offset_to_start_of_line: 2044234 column_index: 2 column_name: \"string_field_2\" column_type: STRING value: \"Concentrated O\"; reason: invalid, message: Error while reading data, error message: Missing close quote character (\").; line_number: 2388 byte_offset_to_start_of_line: 2045077 column_index: 2 column_name: \"string_field_2\" column_type: STRING value: \"Concentrated O\"; reason: invalid, message: Error while reading data, error message: Missing close quote character (\").; line_number: 2392 byte_offset_to_start_of_line: 2045980 column_index: 2 column_name: \"string_field_2\" column_type: STRING value: \"Concentrated O\"; reason: invalid, message: Error while reading data, error message: Missing close quote character (\").; line_number: 2396 byte_offset_to_start_of_line: 2046769 column_index: 2 column_name: \"string_field_2\" column_type: STRING value: \"Concentrated O\"; reason: invalid, message: Error while reading data, error message: Missing close quote character (\").; line_number: 2400 byte_offset_to_start_of_line: 2047667 column_index: 2 column_name: \"string_field_2\" column_type: STRING value: \"Concentrated O\"; reason: invalid, message: Error while reading data, error message: Missing close quote character (\").; line_number: 2404 byte_offset_to_start_of_line: 2048567 column_index: 2 column_name: \"string_field_2\" column_type: STRING value: \"Concentrated O\"; reason: invalid, message: Error while reading data, error message: Missing close quote character (\").; line_number: 2408 byte_offset_to_start_of_line: 2049386 column_index: 2 column_name: \"string_field_2\" column_type: STRING value: \"Concentrated O\"; reason: invalid, message: Error while reading data, error message: Missing close quote character (\").; line_number: 2412 byte_offset_to_start_of_line: 2050081 column_index: 2 column_name: \"string_field_2\" column_type: STRING value: \"Concentrated O\"; reason: invalid, message: Error while reading data, error message: Missing close quote character (\").; line_number: 2416 byte_offset_to_start_of_line: 2050770 column_index: 2 column_name: \"string_field_2\" column_type: STRING value: \"Concentrated O\"; reason: invalid, message: Error while reading data, error message: Missing close quote character (\").; line_number: 2420 byte_offset_to_start_of_line: 2051464 column_index: 2 column_name: \"string_field_2\" column_type: STRING value: \"Oxygen is present...\"; reason: invalid, message: Error while reading data, error message: Missing close quote character (\").; line_number: 2427 byte_offset_to_start_of_line: 2052304 column_index: 2 column_name: \"string_field_2\" column_type: STRING value: \"Oxygen is present...\"; reason: invalid, message: Error while reading data, error message: Missing close quote character (\").; line_number: 2434 byte_offset_to_start_of_line: 2053106 column_index: 2 column_name: \"string_field_2\" column_type: STRING value: \"Oxygen is present...\"; reason: invalid, message: Error while reading data, error message: Missing close quote character (\").; line_number: 2441 byte_offset_to_start_of_line: 2053934 column_index: 2 column_name: \"string_field_2\" column_type: STRING value: \"Oxygen is present...\"; reason: invalid, message: Error while reading data, error message: Missing close quote character (\").; line_number: 2448 byte_offset_to_start_of_line: 2054735 column_index: 2 column_name: \"string_field_2\" column_type: STRING value: \"Oxygen is present...\"; reason: invalid, message: Error while reading data, error message: Missing close quote character (\").; line_number: 2455 byte_offset_to_start_of_line: 2055598 column_index: 2 column_name: \"string_field_2\" column_type: STRING value: \"Oxygen is present...\"; reason: invalid, message: Error while reading data, error message: Missing close quote character (\").; line_number: 2462 byte_offset_to_start_of_line: 2056480 column_index: 2 column_name: \"string_field_2\" column_type: STRING value: \"Oxygen is present...\"; reason: invalid, message: Error while reading data, error message: Missing close quote character (\").; line_number: 2469 byte_offset_to_start_of_line: 2057345 column_index: 2 column_name: \"string_field_2\" column_type: STRING value: \"Oxygen is present...\"; reason: invalid, message: Error while reading data, error message: Missing close quote character (\").; line_number: 2476 byte_offset_to_start_of_line: 2058255 column_index: 2 column_name: \"string_field_2\" column_type: STRING value: \"Oxygen is present...\"; reason: invalid, message: Error while reading data, error message: Missing close quote character (\").; line_number: 2483 byte_offset_to_start_of_line: 2058956 column_index: 2 column_name: \"string_field_2\" column_type: STRING value: \"Oxygen is present...\"; reason: invalid, message: Error while reading data, error message: Missing close quote character (\").; line_number: 2490 byte_offset_to_start_of_line: 2059657 column_index: 2 column_name: \"string_field_2\" column_type: STRING value: \"Oxygen is present...\"; reason: invalid, message: Error while reading data, error message: Missing close quote character (\").; line_number: 2497 byte_offset_to_start_of_line: 2060358 column_index: 2 column_name: \"string_field_2\" column_type: STRING value: \"Oxygen is present...\"; reason: invalid, message: Error while reading data, error message: Missing close quote character (\").; line_number: 2541 byte_offset_to_start_of_line: 2099710 column_index: 2 column_name: \"string_field_2\" column_type: STRING value: \"This combination ...\"; reason: invalid, message: Error while reading data, error message: Missing close quote character (\").; line_number: 2543 byte_offset_to_start_of_line: 2100766 column_index: 2 column_name: \"string_field_2\" column_type: STRING value: \"This combination ...\"; reason: invalid, message: Error while reading data, error message: Missing close quote character (\").; line_number: 2545 byte_offset_to_start_of_line: 2101768 column_index: 2 column_name: \"string_field_2\" column_type: STRING value: \"This combination ...\"; reason: invalid, message: Error while reading data, error message: Missing close quote character (\").; line_number: 2547 byte_offset_to_start_of_line: 2102813 column_index: 2 column_name: \"string_field_2\" column_type: STRING value: \"This combination ...\"; reason: invalid, message: Error while reading data, error message: Missing close quote character (\").; line_number: 2549 byte_offset_to_start_of_line: 2103852 column_index: 2 column_name: \"string_field_2\" column_type: STRING value: \"This combination ...\"; reason: invalid, message: Error while reading data, error message: Missing close quote character (\").; line_number: 2551 byte_offset_to_start_of_line: 2104849 column_index: 2 column_name: \"string_field_2\" column_type: STRING value: \"This combination ...\"; reason: invalid, message: Error while reading data, error message: Missing close quote character (\").; line_number: 2553 byte_offset_to_start_of_line: 2105745 column_index: 2 column_name: \"string_field_2\" column_type: STRING value: \"This combination ...\"; reason: invalid, message: Error while reading data, error message: Missing close quote character (\").; line_number: 2555 byte_offset_to_start_of_line: 2106633 column_index: 2 column_name: \"string_field_2\" column_type: STRING value: \"This combination ...\"; reason: invalid, message: Error while reading data, error message: Missing close quote character (\").; line_number: 2557 byte_offset_to_start_of_line: 2107513 column_index: 2 column_name: \"string_field_2\" column_type: STRING value: \"This combination ...\"; reason: invalid, message: Error while reading data, error message: Missing close quote character (\").; line_number: 2567 byte_offset_to_start_of_line: 2116729 column_index: 2 column_name: \"string_field_2\" column_type: STRING value: \"Trioxygen (O\"; reason: invalid, message: Error while reading data, error message: Missing close quote character (\").; line_number: 2576 byte_offset_to_start_of_line: 2118009 column_index: 2 column_name: \"string_field_2\" column_type: STRING value: \"Trioxygen (O\"; reason: invalid, message: Error while reading data, error message: Missing close quote character (\").; line_number: 2585 byte_offset_to_start_of_line: 2119308 column_index: 2 column_name: \"string_field_2\" column_type: STRING value: \"Trioxygen (O\"; reason: invalid, message: Error while reading data, error message: Missing close quote character (\").; line_number: 2594 byte_offset_to_start_of_line: 2120629 column_index: 2 column_name: \"string_field_2\" column_type: STRING value: \"Trioxygen (O\"; reason: invalid, message: Error while reading data, error message: Missing close quote character (\").; line_number: 2603 byte_offset_to_start_of_line: 2122019 column_index: 2 column_name: \"string_field_2\" column_type: STRING value: \"Trioxygen (O\"; reason: invalid, message: Error while reading data, error message: Missing close quote character (\").; line_number: 2612 byte_offset_to_start_of_line: 2123316 column_index: 2 column_name: \"string_field_2\" column_type: STRING value: \"Trioxygen (O\"; reason: invalid, message: Error while reading data, error message: Missing close quote character (\").; line_number: 2621 byte_offset_to_start_of_line: 2124513 column_index: 2 column_name: \"string_field_2\" column_type: STRING value: \"Trioxygen (O\"; reason: invalid, message: Error while reading data, error message: Missing close quote character (\").; line_number: 2630 byte_offset_to_start_of_line: 2125724 column_index: 2 column_name: \"string_field_2\" column_type: STRING value: \"Trioxygen (O\"; reason: invalid, message: Error while reading data, error message: Missing close quote character (\").; line_number: 2639 byte_offset_to_start_of_line: 2126949 column_index: 2 column_name: \"string_field_2\" column_type: STRING value: \"Trioxygen (O\"; reason: invalid, message: Error while reading data, error message: Missing close quote character (\").; line_number: 2648 byte_offset_to_start_of_line: 2128158 column_index: 2 column_name: \"string_field_2\" column_type: STRING value: \"The common allotr...\"; reason: invalid, message: Error while reading data, error message: Missing close quote character (\").; line_number: 2651 byte_offset_to_start_of_line: 2128953 column_index: 2 column_name: \"string_field_2\" column_type: STRING value: \"The common allotr...\"; reason: invalid, message: Error while reading data, error message: Missing close quote character (\").; line_number: 2654 byte_offset_to_start_of_line: 2129682 column_index: 2 column_name: \"string_field_2\" column_type: STRING value: \"The common allotr...\"; reason: invalid, message: Error while reading data, error message: Missing close quote character (\").; line_number: 2657 byte_offset_to_start_of_line: 2130513 column_index: 2 column_name: \"string_field_2\" column_type: STRING value: \"The common allotr...\"; reason: invalid, message: Error while reading data, error message: Missing close quote character (\").; line_number: 2660 byte_offset_to_start_of_line: 2131373 column_index: 2 column_name: \"string_field_2\" column_type: STRING value: \"The common allotr...\"; reason: invalid, message: Error while reading data, error message: Missing close quote character (\").; line_number: 2663 byte_offset_to_start_of_line: 2132248 column_index: 2 column_name: \"string_field_2\" column_type: STRING value: \"The common allotr...\"; reason: invalid, message: Error while reading data, error message: Missing close quote character (\").; line_number: 2666 byte_offset_to_start_of_line: 2132965 column_index: 2 column_name: \"string_field_2\" column_type: STRING value: \"The common allotr...\"; reason: invalid, message: Error while reading data, error message: Missing close quote character (\").; line_number: 2669 byte_offset_to_start_of_line: 2133672 column_index: 2 column_name: \"string_field_2\" column_type: STRING value: \"The common allotr...\"; reason: invalid, message: Error while reading data, error message: Missing close quote character (\").; line_number: 2672 byte_offset_to_start_of_line: 2134388 column_index: 2 column_name: \"string_field_2\" column_type: STRING value: \"The common allotr...\"; reason: invalid, message: Error while reading data, error message: Missing close quote character (\").; line_number: 2675 byte_offset_to_start_of_line: 2135111 column_index: 2 column_name: \"string_field_2\" column_type: STRING value: \"In 1891 Scottish ...\"; reason: invalid, message: Error while reading data, error message: Missing close quote character (\").; line_number: 2677 byte_offset_to_start_of_line: 2135957 column_index: 2 column_name: \"string_field_2\" column_type: STRING value: \"In 1891 Scottish ...\"; reason: invalid, message: Error while reading data, error message: Missing close quote character (\").; line_number: 2679 byte_offset_to_start_of_line: 2136753 column_index: 2 column_name: \"string_field_2\" column_type: STRING value: \"In 1891 Scottish ...\"; reason: invalid, message: Error while reading data, error message: Missing close quote character (\").; line_number: 2681 byte_offset_to_start_of_line: 2137560 column_index: 2 column_name: \"string_field_2\" column_type: STRING value: \"In 1891 Scottish ...\"; reason: invalid, message: Error while reading data, error message: Missing close quote character (\").; line_number: 2683 byte_offset_to_start_of_line: 2138425 column_index: 2 column_name: \"string_field_2\" column_type: STRING value: \"In 1891 Scottish ...\"; reason: invalid, message: Error while reading data, error message: Missing close quote character (\").; line_number: 2685 byte_offset_to_start_of_line: 2139153 column_index: 2 column_name: \"string_field_2\" column_type: STRING value: \"In 1891 Scottish ...\"; reason: invalid, message: Error while reading data, error message: Missing close quote character (\").; line_number: 2687 byte_offset_to_start_of_line: 2139864 column_index: 2 column_name: \"string_field_2\" column_type: STRING value: \"In 1891 Scottish ...\"; reason: invalid, message: Error while reading data, error message: Missing close quote character (\").; line_number: 2689 byte_offset_to_start_of_line: 2140605 column_index: 2 column_name: \"string_field_2\" column_type: STRING value: \"In 1891 Scottish ...\"; reason: invalid, message: Error while reading data, error message: Missing close quote character (\").; line_number: 2691 byte_offset_to_start_of_line: 2141338 column_index: 2 column_name: \"string_field_2\" column_type: STRING value: \"Oxygen is more so...\"; reason: invalid, message: Error while reading data, error message: Missing close quote character (\").; line_number: 2694 byte_offset_to_start_of_line: 2142225 column_index: 2 column_name: \"string_field_2\" column_type: STRING value: \"Oxygen is more so...\"; reason: invalid, message: Error while reading data, error message: Missing close quote character (\").; line_number: 2697 byte_offset_to_start_of_line: 2143160 column_index: 2 column_name: \"string_field_2\" column_type: STRING value: \"Oxygen is more so...\"; reason: invalid, message: Error while reading data, error message: Missing close quote character (\").; line_number: 2700 byte_offset_to_start_of_line: 2144128 column_index: 2 column_name: \"string_field_2\" column_type: STRING value: \"Oxygen is more so...\"; reason: invalid, message: Error while reading data, error message: Missing close quote character (\").; line_number: 2703 byte_offset_to_start_of_line: 2145037 column_index: 2 column_name: \"string_field_2\" column_type: STRING value: \"Oxygen is more so...\"; reason: invalid, message: Error while reading data, error message: Missing close quote character (\").; line_number: 2706 byte_offset_to_start_of_line: 2145967 column_index: 2 column_name: \"string_field_2\" column_type: STRING value: \"Oxygen is more so...\"; reason: invalid, message: Error while reading data, error message: Missing close quote character (\").; line_number: 2709 byte_offset_to_start_of_line: 2146770 column_index: 2 column_name: \"string_field_2\" column_type: STRING value: \"Oxygen is more so...\"; reason: invalid, message: Error while reading data, error message: Missing close quote character (\").; line_number: 2712 byte_offset_to_start_of_line: 2147580 column_index: 2 column_name: \"string_field_2\" column_type: STRING value: \"Oxygen is more so...\"; reason: invalid, message: Error while reading data, error message: Missing close quote character (\").; line_number: 2715 byte_offset_to_start_of_line: 2148394 column_index: 2 column_name: \"string_field_2\" column_type: STRING value: \"Oxygen is more so...\"; reason: invalid, message: Error while reading data, error message: Missing close quote character (\").; line_number: 2718 byte_offset_to_start_of_line: 2149188 column_index: 2 column_name: \"string_field_2\" column_type: STRING value: \"Oxygen is the mos...\"; reason: invalid, message: Error while reading data, error message: Missing close quote character (\").; line_number: 2721 byte_offset_to_start_of_line: 2150272 column_index: 2 column_name: \"string_field_2\" column_type: STRING value: \"Oxygen is the mos...\"; reason: invalid, message: Error while reading data, error message: Missing close quote character (\").; line_number: 2724 byte_offset_to_start_of_line: 2151336 column_index: 2 column_name: \"string_field_2\" column_type: STRING value: \"Oxygen is the mos...\"; reason: invalid, message: Error while reading data, error message: Missing close quote character (\").; line_number: 2727 byte_offset_to_start_of_line: 2152379 column_index: 2 column_name: \"string_field_2\" column_type: STRING value: \"Oxygen is the mos...\"; reason: invalid, message: Error while reading data, error message: Missing close quote character (\").; line_number: 2730 byte_offset_to_start_of_line: 2153491 column_index: 2 column_name: \"string_field_2\" column_type: STRING value: \"Oxygen is the mos...\"; reason: invalid, message: Error while reading data, error message: Missing close quote character (\").; line_number: 2733 byte_offset_to_start_of_line: 2154793 column_index: 2 column_name: \"string_field_2\" column_type: STRING value: \"Oxygen is the mos...\"; reason: invalid, message: Error while reading data, error message: Missing close quote character (\").; line_number: 2736 byte_offset_to_start_of_line: 2155783 column_index: 2 column_name: \"string_field_2\" column_type: STRING value: \"Oxygen is the mos...\"; reason: invalid, message: Error while reading data, error message: Missing close quote character (\").; line_number: 2739 byte_offset_to_start_of_line: 2156773 column_index: 2 column_name: \"string_field_2\" column_type: STRING value: \"Oxygen is the mos...\"\n",
      "Table dsci-591-capstone.data_clean.truthful_qa_train already exists. Using existing table.\n",
      "Successfully uploaded ..\\data\\clean\\truthful_qa_train.csv to BigQuery table dsci-591-capstone.data_clean.truthful_qa_train.\n"
     ]
    }
   ],
   "source": [
    "# Initialize DataUploader with BigQuery client and project ID\n",
    "uploader = DataUploader(\n",
    "    bq_client=bq_client,\n",
    "    project_id=project_id,\n",
    "    dataset_name=\"data_clean\"\n",
    ")\n",
    "\n",
    "# Upload files to BigQuery\n",
    "for path in Path(\"../data/clean\").glob(\"*.*\"):\n",
    "    name = path.stem\n",
    "    uploader.upload_to_bigquery(\n",
    "        file_path=path,\n",
    "        table_name=name\n",
    "    )\n"
   ]
  }
 ],
 "metadata": {
  "kernelspec": {
   "display_name": "Python 3",
   "language": "python",
   "name": "python3"
  },
  "language_info": {
   "codemirror_mode": {
    "name": "ipython",
    "version": 3
   },
   "file_extension": ".py",
   "mimetype": "text/x-python",
   "name": "python",
   "nbconvert_exporter": "python",
   "pygments_lexer": "ipython3",
   "version": "3.12.4"
  }
 },
 "nbformat": 4,
 "nbformat_minor": 5
}
