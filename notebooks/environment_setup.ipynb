{
 "cells": [
  {
   "cell_type": "code",
   "execution_count": 1,
   "id": "b35fde36",
   "metadata": {},
   "outputs": [],
   "source": [
    "\n",
    "import os\n",
    "from google.cloud import storage, bigquery\n",
    "from google.auth import default\n",
    "from dotenv import load_dotenv\n",
    "from google.cloud.exceptions import NotFound\n",
    "from google.cloud import aiplatform\n",
    "import subprocess\n"
   ]
  },
  {
   "cell_type": "code",
   "execution_count": 2,
   "id": "540c36cc",
   "metadata": {},
   "outputs": [
    {
     "name": "stdout",
     "output_type": "stream",
     "text": [
      "GOOGLE_APPLICATION_CREDENTIALS loaded and file exists.\n",
      "GOOGLE_APPLICATION_CREDENTIALS loaded from .env:\n",
      "C:/Users/iauge/Documents/Drexel MSDS/DSCI 591/DSCI591-FACTS/credentials/dsci-591-capstone-8d1bd9498612.json\n",
      "Authenticated as: 13742792432-compute@developer.gserviceaccount.com\n",
      "GCP Project ID: dsci-591-capstone\n",
      "GCP region set to: us-east1\n"
     ]
    }
   ],
   "source": [
    "# Load environment variables from secrets.env\n",
    "load_dotenv(dotenv_path=\"../credentials/secrets.env\")\n",
    "\n",
    "cred_path = os.getenv(\"GOOGLE_APPLICATION_CREDENTIALS\")\n",
    "\n",
    "if not cred_path:\n",
    "    print(\"GOOGLE_APPLICATION_CREDENTIALS is not set.\")\n",
    "elif not os.path.exists(cred_path):\n",
    "    print(f\"File does not exist at path: {cred_path}\")\n",
    "else:\n",
    "    print(\"GOOGLE_APPLICATION_CREDENTIALS loaded and file exists.\")\n",
    "\n",
    "if not cred_path or not os.path.exists(cred_path):\n",
    "    print(\n",
    "        \"GOOGLE_APPLICATION_CREDENTIALS is not set or the file does not exist.\\n\"\n",
    "        \"Please ensure secrets.env contains a valid path to your service account JSON file.\"\n",
    "    )\n",
    "    storage_client = None\n",
    "    bq_client = None\n",
    "else:\n",
    "    print(\"GOOGLE_APPLICATION_CREDENTIALS loaded from .env:\")\n",
    "    print(cred_path)\n",
    "\n",
    "    # Initialize GCP clients using ADC (Application Default Credentials)\n",
    "    storage_client = storage.Client()\n",
    "    bq_client = bigquery.Client()\n",
    "\n",
    "    # Confirm authentication\n",
    "    creds, project_id = default()\n",
    "    member_email = creds.service_account_email\n",
    "    print(f\"Authenticated as: {member_email}\")\n",
    "    print(f\"GCP Project ID: {project_id}\")\n",
    "\n",
    "# GCP configuration\n",
    "REGION = \"us-east1\"\n",
    "print(f\"GCP region set to: {REGION}\")\n"
   ]
  },
  {
   "cell_type": "code",
   "execution_count": 3,
   "id": "ae996dd8",
   "metadata": {},
   "outputs": [],
   "source": [
    "# Initialize GCP clients with the project ID if provided\n",
    "storage_client = storage.Client(project = project_id if project_id else None)\n",
    "bq_client = bigquery.Client(project = project_id if project_id else None)"
   ]
  },
  {
   "cell_type": "code",
   "execution_count": 4,
   "id": "7ff45774",
   "metadata": {},
   "outputs": [
    {
     "name": "stdout",
     "output_type": "stream",
     "text": [
      "Bucket created: dsci-591-capstone-data-pipeline\n"
     ]
    }
   ],
   "source": [
    "# Create a sample bucket if it does not exist\n",
    "bucket_name = f\"{project_id}-data-pipeline\"\n",
    "\n",
    "if storage_client is not None:\n",
    "    if not storage_client.lookup_bucket(bucket_name):\n",
    "        bucketDef = storage_client.bucket(bucket_name)\n",
    "        bucket = storage_client.create_bucket(bucketDef, project = project_id, location=REGION)\n",
    "        print(f\"Bucket created: {bucket.name}\")\n",
    "    else:\n",
    "        bucketDef = storage_client.bucket(bucket_name)\n",
    "        print(f\"Bucket {bucket_name} already exists.\")\n",
    "  \n",
    "else:\n",
    "\tprint(\"storage_client is not initialized. Cannot create bucket.\")\n"
   ]
  },
  {
   "cell_type": "code",
   "execution_count": 5,
   "id": "0bb893f6",
   "metadata": {},
   "outputs": [
    {
     "name": "stdout",
     "output_type": "stream",
     "text": [
      "BigQuery dataset created: sample_dataset\n"
     ]
    }
   ],
   "source": [
    "# Create a sample BigQuery dataset if it does not exist\n",
    "if bq_client is not None:\n",
    "    dataset_ref = f\"{project_id}.sample_dataset\"\n",
    "    try:\n",
    "        bq_client.get_dataset(dataset_ref)\n",
    "        print(f\"BigQuery dataset {dataset_ref} already exists.\")\n",
    "    except NotFound:\n",
    "        dataset = bigquery.Dataset(dataset_ref)\n",
    "        dataset.location = REGION\n",
    "        bq_client.create_dataset(dataset, exists_ok=True)\n",
    "        print(f\"BigQuery dataset created: {dataset.dataset_id}\")\n",
    "else:\n",
    "    print(\"bq_client is not initialized. Cannot create dataset.\")"
   ]
  },
  {
   "cell_type": "code",
   "execution_count": 6,
   "id": "8e666a2e",
   "metadata": {},
   "outputs": [
    {
     "name": "stdout",
     "output_type": "stream",
     "text": [
      "Vertex AI initialized.\n"
     ]
    }
   ],
   "source": [
    "aiplatform.init(project=project_id, location=REGION)\n",
    "\n",
    "print(\"Vertex AI initialized.\")"
   ]
  }
 ],
 "metadata": {
  "kernelspec": {
   "display_name": "Python 3",
   "language": "python",
   "name": "python3"
  },
  "language_info": {
   "codemirror_mode": {
    "name": "ipython",
    "version": 3
   },
   "file_extension": ".py",
   "mimetype": "text/x-python",
   "name": "python",
   "nbconvert_exporter": "python",
   "pygments_lexer": "ipython3",
   "version": "3.12.4"
  }
 },
 "nbformat": 4,
 "nbformat_minor": 5
}
