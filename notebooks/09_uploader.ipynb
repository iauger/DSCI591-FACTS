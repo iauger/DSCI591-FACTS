{
 "cells": [
  {
   "cell_type": "markdown",
   "id": "c4db8874",
   "metadata": {},
   "source": [
    "# 09 · Data Upload\n",
    "\n",
    "\n"
   ]
  },
  {
   "cell_type": "code",
   "execution_count": null,
   "id": "71c61f52",
   "metadata": {},
   "outputs": [],
   "source": [
    "import sys\n",
    "from dotenv import load_dotenv, find_dotenv\n",
    "import os\n",
    "from pathlib import Path\n",
    "sys.path.append(str(Path(\"..\").resolve()))\n",
    "\n",
    "from google.cloud import storage, bigquery\n",
    "from google.auth import default\n",
    "from data_pipeline.uploader import DataUploader\n"
   ]
  },
  {
   "cell_type": "markdown",
   "id": "287c5f94",
   "metadata": {},
   "source": [
    "## Upload Cleaned Data to BigQuery\n",
    "\n",
    "Once datasets have been cleaned and standardized, the final step is to upload them to a centralized BigQuery dataset for easy access in cloud-based analysis and modeling workflows.\n",
    "\n",
    "The `DataUploader` class manages this process, handling table creation and data ingestion. Each CSV in the `/data/clean/` directory is read and pushed to a BigQuery table under the specified dataset (`data_clean` by default), with the table name matching the file name.\n",
    "\n",
    "This enables a seamless transition from local data wrangling to scalable, cloud-native machine learning development.\n"
   ]
  },
  {
   "cell_type": "code",
   "execution_count": null,
   "id": "8e666a2e",
   "metadata": {},
   "outputs": [],
   "source": [
    "# Initialize DataUploader with BigQuery client and project ID\n",
    "uploader = DataUploader(\n",
    "    bq_client=bq_client,\n",
    "    project_id=project_id,\n",
    "    dataset_name=\"data_clean\"\n",
    ")\n",
    "\n",
    "# Upload files to BigQuery\n",
    "for path in Path(\"../data/clean\").glob(\"*.*\"):\n",
    "    name = path.stem\n",
    "    uploader.upload_to_bigquery(\n",
    "        file_path=path,\n",
    "        table_name=name\n",
    "    )\n"
   ]
  }
 ],
 "metadata": {
  "kernelspec": {
   "display_name": "Python 3",
   "language": "python",
   "name": "python3"
  },
  "language_info": {
   "codemirror_mode": {
    "name": "ipython",
    "version": 3
   },
   "file_extension": ".py",
   "mimetype": "text/x-python",
   "name": "python",
   "nbconvert_exporter": "python",
   "pygments_lexer": "ipython3",
   "version": "3.12.4"
  }
 },
 "nbformat": 4,
 "nbformat_minor": 5
}
